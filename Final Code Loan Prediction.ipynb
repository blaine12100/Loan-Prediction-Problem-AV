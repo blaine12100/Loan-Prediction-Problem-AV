{
 "cells": [
  {
   "cell_type": "markdown",
   "metadata": {},
   "source": [
    "Working Code for Loan Prediction Problem"
   ]
  },
  {
   "cell_type": "code",
   "execution_count": 66,
   "metadata": {},
   "outputs": [],
   "source": [
    "import pandas as pd\n",
    "import numpy as np \n",
    "%matplotlib inline\n",
    "import seaborn as sns\n",
    "\n",
    "from fastai.imports import *\n",
    "from fastai.structured import *\n",
    "import matplotlib.pyplot as plt\n",
    "from sklearn.ensemble import RandomForestClassifier\n",
    "import math\n",
    "from scipy import stats \n",
    "from sklearn.linear_model import LogisticRegression\n",
    "from sklearn.metrics import accuracy_score\n",
    "from sklearn.model_selection import train_test_split\n",
    "from sklearn.model_selection import StratifiedKFold\n",
    "from sklearn.ensemble import RandomForestClassifier"
   ]
  },
  {
   "cell_type": "code",
   "execution_count": null,
   "metadata": {},
   "outputs": [],
   "source": [
    "train_data=pd.read_csv(\"train.csv\")\n",
    "\n",
    "testing_data=pd.read_csv(\"test.csv\")\n",
    "\n",
    "train_copy=train_data.copy()\n",
    "\n",
    "train_data.columns\n",
    "\n",
    "# def fill_variables(column,fillingval,inplaceornot):\n",
    "#     print(column.fillna(fillingval,inplace=inplaceornot))\n",
    "#     return column.fillna(fillingval,inplace=inplaceornot)\n",
    "\n",
    "# Custom Features (Has Dependents,Credit_History,Semiurban or not etc)\n",
    "\n",
    "conditions = [train_data['Loan_Status'] == 'Y', train_data['Loan_Status'] == 'N']\n",
    "values = [1.0, 0.0]\n",
    "train_data['Credit_History'] = np.where(train_data['Credit_History'].isnull(),\n",
    "                              np.select(conditions, values),\n",
    "                              train_data['Credit_History'])\n",
    "\n",
    "# testing_data['Credit_History'] = np.where(testing_data['Credit_History'].isnull(),\n",
    "#                               np.select(conditions4, values),\n",
    "#                               train_data['Credit_History'])\n",
    "\n",
    "conditions2=[\n",
    "    (train_data['Loan_Status']=='Y') & (train_data['Dependents']=='0'),\n",
    "    (train_data['Loan_Status']=='N') & (train_data['Dependents']=='0'),\n",
    "    (train_data['Loan_Status']=='Y') & (train_data['Dependents']=='1'),\n",
    "    (train_data['Loan_Status']=='N') & (train_data['Dependents']=='1'),\n",
    "    (train_data['Loan_Status']=='Y') & (train_data['Dependents']=='2'),\n",
    "    (train_data['Loan_Status']=='N') & (train_data['Dependents']=='2'),\n",
    "    (train_data['Loan_Status']=='Y') & (train_data['Dependents']=='3'),\n",
    "    (train_data['Loan_Status']=='N') & (train_data['Dependents']=='3'),\n",
    "]\n",
    "\n",
    "condition3=[(train_data['Loan_Status']=='Y') & (train_data['Property_Area']=='Rural'),\n",
    "    (train_data['Loan_Status']=='N') & (train_data['Property_Area']=='Rural'),\n",
    "    (train_data['Loan_Status']=='Y') & (train_data['Property_Area']=='Urban'),\n",
    "    (train_data['Loan_Status']=='N') & (train_data['Property_Area']=='Urban'),\n",
    "    (train_data['Loan_Status']=='Y') & (train_data['Property_Area']=='Semiurban'),\n",
    "    (train_data['Loan_Status']=='N') & (train_data['Property_Area']=='Semiurban'),]\n",
    "\n",
    "train_data['Dependents'].fillna(train_data['Dependents'].mode()[0], inplace=True)\n",
    "train_data['Dependents'].replace('3+',3,inplace=True)\n",
    "# print(train_data['Dependents'])\n",
    "values2=[1,0,0,0,0,0,0,0]\n",
    "values3=[0,0,0,0,1,0]\n",
    "\n",
    "train_data['HasDependent']=np.select(conditions2,values2)\n",
    "testing_data['HasDependent']=[1 if x=='0' else 0 for x in testing_data['Dependents']]\n",
    "# train_data['HasDependent']\n",
    "train_data['IsSemiUrban']=np.select(condition3,values3)\n",
    "testing_data['IsSemiUrban']=[1 if x=='Semiurban' else 0 for x in testing_data['Property_Area']]\n",
    "# print(train_data['IsSemiUrban'])\n",
    "# train_data['HasDependent']=[train_data['Dependents']=='0' & train_data['Loan_Status']=='Y']\n",
    "testing_data['Dependents'].fillna(train_data['Dependents'].mode()[0], inplace=True)\n",
    "testing_data['Dependents'].replace('3+',3,inplace=True)\n",
    "\n",
    "# testing_data['HasDependent']=\n",
    "\n",
    "# train_data['HasDependent']"
   ]
  },
  {
   "cell_type": "code",
   "execution_count": 68,
   "metadata": {},
   "outputs": [],
   "source": [
    "train_data['Gender']=train_data['Gender'].fillna(train_data['Gender'].mode()[0], inplace=True)\n",
    "train_data['Married'].fillna(train_data['Married'].mode()[0], inplace=True)\n",
    "# train_data['Dependents'].fillna(train_data['Dependents'].mode()[0], inplace=True)\n",
    "train_data['Self_Employed'].fillna(train_data['Self_Employed'].mode()[0], inplace=True)\n",
    "# train_data['Credit_History'].fillna(train_data['Credit_History'].mode()[0], inplace=True)\n",
    "train_data['Loan_Amount_Term'].fillna(train_data['Loan_Amount_Term'].mode()[0], inplace=True)\n",
    "train_data['LoanAmount'].fillna(train_data['LoanAmount'].median(), inplace=True)\n",
    "train_data['LoanAmount']=np.log(train_data['LoanAmount'])\n",
    "train_data['ApplicantIncome'].fillna(train_data['ApplicantIncome'].median(),inplace=True)\n",
    "train_data['CoapplicantIncome'].fillna(train_data['CoapplicantIncome'].median(),inplace=True)\n",
    "train_data['Total_Income']=np.log(train_data['ApplicantIncome']+train_data['CoapplicantIncome'])\n",
    "# train_data['Dependents'].replace('0','N',inplace=True)\n",
    "# train_data['Dependents'].replace('1','Y1',inplace=True)\n",
    "# train_data['Dependents'].replace('2','Y2',inplace=True)\n",
    "# train_data['Dependents'].replace('3+','Y3',inplace=True)\n",
    "# train_data['Married+Dependents']=train_data['Married']+train_data['Dependents']\n",
    "\n",
    "testing_data['Gender'].fillna(testing_data['Gender'].mode()[0], inplace=True)\n",
    "testing_data['Married'].fillna(testing_data['Married'].mode()[0], inplace=True)\n",
    "# testing_data['Dependents'].fillna(testing_data['Dependents'].mode()[0], inplace=True)\n",
    "testing_data['Self_Employed'].fillna(testing_data['Self_Employed'].mode()[0], inplace=True)\n",
    "testing_data['Credit_History'].fillna(testing_data['Credit_History'].mode()[0], inplace=True)\n",
    "testing_data['Loan_Amount_Term'].fillna(testing_data['Loan_Amount_Term'].mode()[0], inplace=True)\n",
    "testing_data['LoanAmount'].fillna(testing_data['LoanAmount'].median(), inplace=True)\n",
    "testing_data['LoanAmount']=np.log(testing_data['LoanAmount'])\n",
    "testing_data['ApplicantIncome'].fillna(testing_data['ApplicantIncome'].median(),inplace=True)\n",
    "testing_data['CoapplicantIncome'].fillna(testing_data['CoapplicantIncome'].median(),inplace=True)\n",
    "testing_data['Total_Income']=np.log(testing_data['ApplicantIncome']+testing_data['CoapplicantIncome'])\n",
    "# testing_data['Dependents'].replace('0','N',inplace=True)\n",
    "# testing_data['Dependents'].replace('1','Y1',inplace=True)\n",
    "# testing_data['Dependents'].replace('2','Y2',inplace=True)\n",
    "# testing_data['Dependents'].replace('3+','Y3',inplace=True)\n",
    "# testing_data['Married+Dependents']=testing_data['Married']+testing_data['Dependents']\n",
    "\n",
    "train_data['EMI']=train_data['LoanAmount']/train_data['Loan_Amount_Term']\n",
    "testing_data['EMI']=testing_data['LoanAmount']/testing_data['Loan_Amount_Term']"
   ]
  },
  {
   "cell_type": "code",
   "execution_count": 69,
   "metadata": {},
   "outputs": [],
   "source": [
    "train_data.drop('Loan_ID',inplace=True,axis=1)\n",
    "# train_data['Dependents'].replace('3+',3,inplace=True)\n",
    "train_data.drop('Married',inplace=True,axis=1)\n",
    "train_data.drop('ApplicantIncome',inplace=True,axis=1)\n",
    "train_data.drop('CoapplicantIncome',inplace=True,axis=1)\n",
    "# train_data.drop('Dependents',inplace=True,axis=1)\n",
    "train_data.drop('Loan_Amount_Term',inplace=True,axis=1)\n",
    "\n",
    "original_Ids=testing_data['Loan_ID']\n",
    "\n",
    "testing_data.drop('Loan_ID',inplace=True,axis=1)\n",
    "# testing_data['Dependents'].replace('3+',3,inplace=True)\n",
    "testing_data.drop('Married',inplace=True,axis=1)\n",
    "testing_data.drop('ApplicantIncome',inplace=True,axis=1)\n",
    "testing_data.drop('CoapplicantIncome',inplace=True,axis=1)\n",
    "# testing_data.drop('Dependents',inplace=True,axis=1)\n",
    "testing_data.drop('Loan_Amount_Term',inplace=True,axis=1)\n",
    "# testing_data.replace('NoN',0,inplace=True)"
   ]
  },
  {
   "cell_type": "code",
   "execution_count": 70,
   "metadata": {},
   "outputs": [],
   "source": [
    "# train_data=pd.get_dummies(train_data)\n",
    "# testing_data=pd.get_dummies(testing_data)\n",
    "\n",
    "# train_data['ApplicantIncome']=np.log(train_data['ApplicantIncome'])\n",
    "\n",
    "# print(np.log(train_data['ApplicantIncome']+train_data['CoapplicantIncome']),train_data['ApplicantIncome'])\n",
    "y=train_data[\"Loan_Status\"]\n",
    "\n",
    "train_data.drop(\"Loan_Status\",inplace=True,axis=1)"
   ]
  },
  {
   "cell_type": "code",
   "execution_count": 71,
   "metadata": {},
   "outputs": [],
   "source": [
    "train_data['Gender']=train_data['Gender'].astype('category').cat.codes\n",
    "train_data['Education']=train_data['Education'].astype('category').cat.codes\n",
    "train_data['Self_Employed']=train_data['Self_Employed'].astype('category').cat.codes\n",
    "train_data['Property_Area']=train_data['Property_Area'].astype('category').cat.codes\n",
    "# train_data['Loan_Status']=testing_data['Loan_Status'].astype('category').cat.codes\n",
    "# train_data['Married+Dependents']=train_data['Married+Dependents'].astype('category').cat.codes\n",
    "# train_data['Dependents']=pd.get_dummies(train_data['Dependents'])\n",
    "\n",
    "\n",
    "testing_data['Gender']=testing_data['Gender'].astype('category').cat.codes\n",
    "testing_data['Education']=testing_data['Education'].astype('category').cat.codes\n",
    "testing_data['Self_Employed']=testing_data['Self_Employed'].astype('category').cat.codes\n",
    "testing_data['Property_Area']=testing_data['Property_Area'].astype('category').cat.codes\n",
    "# testing_data['Loan_Status']=testing_data['Loan_Status'].astype('category').cat.codes\n",
    "# testing_data['Married+Dependents']=testing_data['Married+Dependents'].astype('category').cat.codes"
   ]
  },
  {
   "cell_type": "code",
   "execution_count": 7,
   "metadata": {},
   "outputs": [
    {
     "data": {
      "text/plain": [
       "Gender                0\n",
       "Education             0\n",
       "Self_Employed         0\n",
       "LoanAmount            0\n",
       "Credit_History        0\n",
       "Property_Area         0\n",
       "Total_Income          0\n",
       "Married+Dependents    0\n",
       "EMI                   0\n",
       "dtype: int64"
      ]
     },
     "execution_count": 7,
     "metadata": {},
     "output_type": "execute_result"
    }
   ],
   "source": [
    "train_data['Married+Dependents'].value_counts()\n",
    "\n",
    "pd.isnull(testing_data).sum()"
   ]
  },
  {
   "cell_type": "code",
   "execution_count": 23,
   "metadata": {},
   "outputs": [
    {
     "data": {
      "text/plain": [
       "LogisticRegression(C=1.0, class_weight=None, dual=False, fit_intercept=True,\n",
       "          intercept_scaling=1, max_iter=100, multi_class='ovr', n_jobs=1,\n",
       "          penalty='l2', random_state=None, solver='liblinear', tol=0.0001,\n",
       "          verbose=0, warm_start=False)"
      ]
     },
     "execution_count": 23,
     "metadata": {},
     "output_type": "execute_result"
    }
   ],
   "source": [
    "x_train, x_cv, y_train, y_cv = train_test_split(train_data,y, test_size =0.3)\n",
    "model = LogisticRegression()\n",
    "model.fit(x_train, y_train)\n",
    "\n",
    "# pred_cv = model.predict(x_cv)\n",
    "# accuracy_score(y_cv,pred_cv)"
   ]
  },
  {
   "cell_type": "code",
   "execution_count": 9,
   "metadata": {},
   "outputs": [],
   "source": [
    "pred_test = model.predict(testing_data)"
   ]
  },
  {
   "cell_type": "code",
   "execution_count": 72,
   "metadata": {},
   "outputs": [
    {
     "name": "stdout",
     "output_type": "stream",
     "text": [
      "Gender            0\n",
      "Dependents        0\n",
      "Education         0\n",
      "Self_Employed     0\n",
      "LoanAmount        0\n",
      "Credit_History    0\n",
      "Property_Area     0\n",
      "HasDependent      0\n",
      "IsSemiUrban       0\n",
      "Total_Income      0\n",
      "EMI               0\n",
      "dtype: int64\n",
      "Gender            0\n",
      "Dependents        0\n",
      "Education         0\n",
      "Self_Employed     0\n",
      "LoanAmount        0\n",
      "Credit_History    0\n",
      "Property_Area     0\n",
      "HasDependent      0\n",
      "IsSemiUrban       0\n",
      "Total_Income      0\n",
      "EMI               0\n",
      "dtype: int64\n",
      "\n",
      "1 of kfold 5\n",
      "accuracy_score 0.8629032258064516\n",
      "\n",
      "2 of kfold 5\n",
      "accuracy_score 0.9354838709677419\n",
      "\n",
      "3 of kfold 5\n",
      "accuracy_score 0.9262295081967213\n",
      "\n",
      "4 of kfold 5\n",
      "accuracy_score 0.9180327868852459\n",
      "\n",
      "5 of kfold 5\n",
      "accuracy_score 0.9262295081967213\n"
     ]
    }
   ],
   "source": [
    "i=1\n",
    "kf = StratifiedKFold(n_splits=5,random_state=1,shuffle=True)\n",
    "\n",
    "print(pd.isnull(train_data).sum())\n",
    "print(pd.isnull(testing_data).sum())\n",
    "\n",
    "for train_index,test_index in kf.split(train_data,y):\n",
    "     print('\\n{} of kfold {}'.format(i,kf.n_splits))\n",
    "     xtr,xvl = train_data.loc[train_index],train_data.loc[test_index]\n",
    "     ytr,yvl = y[train_index],y[test_index]\n",
    "        \n",
    "#      print(yvl.value_counts())\n",
    "#      model2=RandomForestClassifier(n_estimators=100)\n",
    "#      model2.fit(xtr,ytr)\n",
    "#      print(accuracy_score(yvl,model2.predict(xvl)))\n",
    "     model = LogisticRegression(random_state=1)\n",
    "     model.fit(xtr, ytr)\n",
    "     pred_test = model.predict(xvl)\n",
    "     score = accuracy_score(yvl,pred_test)\n",
    "     print('accuracy_score',score)\n",
    "     i+=1\n",
    "\n",
    "\n",
    "pred_test = model2.predict(testing_data)\n",
    "pred=model.predict_proba(xvl)[:,1]\n",
    "\n",
    "# print(pred)\n",
    "# from sklearn import metrics\n",
    "# fpr, tpr, _ = metrics.roc_curve(yvl,pred)\n",
    "# auc = metrics.roc_auc_score(yvl, pred)\n",
    "# plt.figure(figsize=(12,8))\n",
    "# plt.plot(fpr,tpr,label=\"validation, auc=\"+str(auc))\n",
    "# plt.xlabel('False Positive Rate')\n",
    "# plt.ylabel('True Positive Rate')\n",
    "# plt.legend(loc=4)\n",
    "# plt.show()"
   ]
  },
  {
   "cell_type": "code",
   "execution_count": 73,
   "metadata": {},
   "outputs": [],
   "source": [
    "submission=pd.read_csv(\"Sample_Submission.csv\")\n",
    "submission['Loan_ID']=original_Ids\n",
    "submission['Loan_Status']=pred_test\n",
    "pd.DataFrame(submission, columns=['Loan_ID','Loan_Status']).to_csv('logistic4.csv')"
   ]
  },
  {
   "cell_type": "code",
   "execution_count": 74,
   "metadata": {},
   "outputs": [
    {
     "data": {
      "text/plain": [
       "array(['Y', 'Y', 'Y', 'N', 'Y', 'Y', 'Y', 'N', 'Y', 'Y', 'Y', 'Y', 'Y', 'Y', 'Y', 'Y', 'Y', 'Y', 'Y', 'Y',\n",
       "       'Y', 'Y', 'Y', 'Y', 'Y', 'Y', 'Y', 'Y', 'Y', 'Y', 'Y', 'Y', 'Y', 'Y', 'Y', 'Y', 'Y', 'Y', 'Y', 'Y',\n",
       "       'Y', 'Y', 'Y', 'Y', 'Y', 'Y', 'N', 'Y', 'Y', 'Y', 'Y', 'Y', 'Y', 'Y', 'Y', 'Y', 'Y', 'Y', 'Y', 'Y',\n",
       "       'Y', 'Y', 'Y', 'Y', 'Y', 'Y', 'Y', 'Y', 'Y', 'Y', 'Y', 'Y', 'Y', 'Y', 'Y', 'Y', 'Y', 'Y', 'Y', 'Y',\n",
       "       'N', 'Y', 'N', 'Y', 'Y', 'Y', 'Y', 'Y', 'Y', 'Y', 'Y', 'Y', 'Y', 'Y', 'Y', 'Y', 'Y', 'Y', 'Y', 'Y',\n",
       "       'Y', 'Y', 'Y', 'N', 'Y', 'Y', 'Y', 'Y', 'Y', 'Y', 'Y', 'Y', 'Y', 'Y', 'Y', 'Y', 'Y', 'N', 'Y', 'N',\n",
       "       'Y', 'Y', 'Y', 'Y', 'Y', 'Y', 'Y', 'Y', 'Y', 'Y', 'Y', 'Y', 'N', 'Y', 'Y', 'Y', 'Y', 'Y', 'Y', 'Y',\n",
       "       'Y', 'Y', 'N', 'Y', 'Y', 'Y', 'Y', 'Y', 'Y', 'Y', 'Y', 'Y', 'Y', 'N', 'Y', 'Y', 'Y', 'Y', 'Y', 'Y',\n",
       "       'Y', 'Y', 'Y', 'Y', 'Y', 'Y', 'N', 'Y', 'Y', 'N', 'Y', 'Y', 'Y', 'Y', 'Y', 'Y', 'Y', 'Y', 'Y', 'Y',\n",
       "       'Y', 'Y', 'Y', 'Y', 'Y', 'Y', 'Y', 'Y', 'Y', 'Y', 'Y', 'Y', 'N', 'N', 'Y', 'Y', 'Y', 'Y', 'N', 'Y',\n",
       "       'Y', 'Y', 'N', 'Y', 'Y', 'Y', 'Y', 'Y', 'Y', 'Y', 'Y', 'Y', 'Y', 'Y', 'Y', 'Y', 'Y', 'Y', 'N', 'Y',\n",
       "       'Y', 'Y', 'Y', 'Y', 'Y', 'Y', 'Y', 'Y', 'Y', 'N', 'Y', 'Y', 'Y', 'Y', 'Y', 'Y', 'Y', 'Y', 'Y', 'Y',\n",
       "       'Y', 'Y', 'Y', 'Y', 'Y', 'Y', 'Y', 'Y', 'Y', 'Y', 'N', 'Y', 'Y', 'Y', 'Y', 'Y', 'Y', 'Y', 'Y', 'N',\n",
       "       'Y', 'Y', 'Y', 'Y', 'Y', 'Y', 'N', 'Y', 'N', 'Y', 'Y', 'Y', 'Y', 'Y', 'Y', 'Y', 'Y', 'Y', 'Y', 'Y',\n",
       "       'Y', 'Y', 'Y', 'Y', 'N', 'Y', 'Y', 'Y', 'Y', 'Y', 'Y', 'Y', 'Y', 'Y', 'Y', 'Y', 'Y', 'Y', 'Y', 'Y',\n",
       "       'Y', 'N', 'N', 'N', 'Y', 'Y', 'Y', 'Y', 'Y', 'Y', 'Y', 'N', 'N', 'Y', 'Y', 'Y', 'Y', 'Y', 'Y', 'Y',\n",
       "       'Y', 'Y', 'Y', 'Y', 'Y', 'Y', 'Y', 'Y', 'Y', 'Y', 'Y', 'Y', 'Y', 'Y', 'Y', 'Y', 'Y', 'Y', 'N', 'Y',\n",
       "       'Y', 'Y', 'N', 'N', 'Y', 'Y', 'Y', 'Y', 'Y', 'Y', 'Y', 'Y', 'Y', 'Y', 'Y', 'Y', 'Y', 'Y', 'Y', 'Y',\n",
       "       'Y', 'Y', 'Y', 'Y', 'Y', 'Y', 'Y'], dtype=object)"
      ]
     },
     "execution_count": 74,
     "metadata": {},
     "output_type": "execute_result"
    }
   ],
   "source": [
    "pred_test"
   ]
  },
  {
   "cell_type": "code",
   "execution_count": null,
   "metadata": {},
   "outputs": [],
   "source": []
  }
 ],
 "metadata": {
  "kernelspec": {
   "display_name": "fastAI custom",
   "language": "python",
   "name": "fastai"
  },
  "language_info": {
   "codemirror_mode": {
    "name": "ipython",
    "version": 3
   },
   "file_extension": ".py",
   "mimetype": "text/x-python",
   "name": "python",
   "nbconvert_exporter": "python",
   "pygments_lexer": "ipython3",
   "version": "3.6.6"
  }
 },
 "nbformat": 4,
 "nbformat_minor": 2
}
